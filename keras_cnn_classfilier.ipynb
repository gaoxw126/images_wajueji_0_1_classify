{
 "cells": [
  {
   "cell_type": "code",
   "execution_count": 1,
   "metadata": {},
   "outputs": [
    {
     "name": "stderr",
     "output_type": "stream",
     "text": [
      "Using TensorFlow backend.\n"
     ]
    }
   ],
   "source": [
    "import os,sys\n",
    "from array import array\n",
    "import numpy as np\n",
    "import matplotlib.pyplot as plot\n",
    "from PIL import Image\n",
    "from keras.utils import np_utils\n",
    "from keras.preprocessing.image import ImageDataGenerator, array_to_img, img_to_array, load_img\n",
    "from keras.models import Sequential\n",
    "from keras.layers import Convolution2D, MaxPooling2D, Flatten, Dropout, Dense, Activation,Merge\n",
    "from keras.optimizers import Adam"
   ]
  },
  {
   "cell_type": "code",
   "execution_count": 2,
   "metadata": {
    "collapsed": true
   },
   "outputs": [],
   "source": [
    "base_dirs = ['caterpillar','case','kubota','doosan','komatsu','sany','volvo','xcmg']"
   ]
  },
  {
   "cell_type": "code",
   "execution_count": 3,
   "metadata": {
    "collapsed": true
   },
   "outputs": [],
   "source": [
    "WIDTH = 100\n",
    "HEIGHT = 100\n",
    "classes = 8    # 看你是几分类\n",
    "root = \"D://wajueji//\"   #目录"
   ]
  },
  {
   "cell_type": "code",
   "execution_count": 4,
   "metadata": {
    "collapsed": true
   },
   "outputs": [],
   "source": [
    "#定义图像读取\n",
    "def  get_image_pixel(file):\n",
    "    img = Image.open(file)\n",
    "    img = img.resize((WIDTH,HEIGHT))\n",
    "    #图片灰度化\n",
    "    img = img.convert(\"L\")\n",
    "    img_array = img_to_array(img)\n",
    "    return img_array"
   ]
  },
  {
   "cell_type": "code",
   "execution_count": 6,
   "metadata": {
    "collapsed": true
   },
   "outputs": [],
   "source": [
    "#获取所有图像文件\n",
    "def get_image_file(root,base_dirs):\n",
    "    for i in range(len(base_dirs)):\n",
    "        dir = root + base_dirs[i]\n",
    "        listImages= os.listdir(dir)\n",
    "        images_file_path = [ dir+ '//' +image for image in listImages]\n",
    "        #print(images_file_path)\n",
    "        for file in images_file_path:\n",
    "            img_array = get_image_pixel(file)  #这里的i为类别标签\n",
    "            X.append(img_array)\n",
    "            Y.append(i)  \n",
    "    return  X,Y"
   ]
  },
  {
   "cell_type": "code",
   "execution_count": 7,
   "metadata": {
    "collapsed": true
   },
   "outputs": [],
   "source": [
    "X = []   #存放训练数据的 X_train \n",
    "Y = []   #放训练数据的 Y_train\n",
    "X,Y = get_image_file(root,base_dirs)"
   ]
  },
  {
   "cell_type": "code",
   "execution_count": 8,
   "metadata": {},
   "outputs": [
    {
     "data": {
      "text/plain": [
       "(100, 100, 1)"
      ]
     },
     "execution_count": 8,
     "metadata": {},
     "output_type": "execute_result"
    }
   ],
   "source": [
    "X[0].shape"
   ]
  },
  {
   "cell_type": "code",
   "execution_count": 9,
   "metadata": {
    "collapsed": true
   },
   "outputs": [],
   "source": [
    "total_input = len(X)\n",
    "X_train = np.array(X)\n",
    "X_train = X_train.reshape(total_input, WIDTH, HEIGHT, 1)\n",
    "X_train = X_train.astype('float32')     \n",
    "X_train /= 255   #归一化\n",
    "Y_train = np.array(Y)   \n",
    "Y_train = Y_train.reshape(total_input, 1)   \n",
    "Y_train = np_utils.to_categorical(Y_train, classes)   #类别编码"
   ]
  },
  {
   "cell_type": "code",
   "execution_count": 10,
   "metadata": {},
   "outputs": [
    {
     "data": {
      "text/plain": [
       "(1545, 100, 100, 1)"
      ]
     },
     "execution_count": 10,
     "metadata": {},
     "output_type": "execute_result"
    }
   ],
   "source": [
    "X_train.shape"
   ]
  },
  {
   "cell_type": "code",
   "execution_count": 11,
   "metadata": {},
   "outputs": [
    {
     "data": {
      "text/plain": [
       "1545"
      ]
     },
     "execution_count": 11,
     "metadata": {},
     "output_type": "execute_result"
    }
   ],
   "source": [
    "len(X_train)"
   ]
  },
  {
   "cell_type": "code",
   "execution_count": 14,
   "metadata": {
    "collapsed": true
   },
   "outputs": [],
   "source": [
    "input_size = WIDTH * HEIGHT \n",
    "batch_size = 128\n",
    "hidden_neurons = 30    \n",
    "epochs = 10"
   ]
  },
  {
   "cell_type": "code",
   "execution_count": 15,
   "metadata": {},
   "outputs": [],
   "source": [
    "\n",
    "# 构建一个较为简单的CNN模型\n",
    "model = Sequential()\n",
    "model.add(Convolution2D(32, (2, 2), input_shape=(WIDTH, HEIGHT, 1)))\n",
    "model.add(Activation('relu'))\n",
    "model.add(Convolution2D(32, (2, 2)))  \n",
    "model.add(Activation('relu'))\n",
    "model.add(MaxPooling2D(pool_size=(2, 2)))\n",
    "model.add(Dropout(0.5))                \n",
    "model.add(Flatten()) \n",
    "model.add(Dense(hidden_neurons))\n",
    "model.add(Activation('relu'))      \n",
    "model.add(Dense(classes))\n",
    "model.add(Activation('softmax'))\n"
   ]
  },
  {
   "cell_type": "code",
   "execution_count": 16,
   "metadata": {
    "collapsed": true
   },
   "outputs": [],
   "source": [
    "model.compile(loss='categorical_crossentropy', metrics=['accuracy'], optimizer='adadelta')\n",
    "# optimizer - \"rmsprop\"/\"sgd\"/\"adadelta\" , loss - \"binary_crossentropy\" / \"categorical_crossentropy\""
   ]
  },
  {
   "cell_type": "code",
   "execution_count": 18,
   "metadata": {},
   "outputs": [
    {
     "name": "stdout",
     "output_type": "stream",
     "text": [
      "Train on 1236 samples, validate on 309 samples\n",
      "Epoch 1/10\n",
      "1236/1236 [==============================] - 31s 25ms/step - loss: 3.0885 - acc: 0.2686 - val_loss: 2.8775 - val_acc: 0.0000e+00\n",
      "Epoch 2/10\n",
      "1236/1236 [==============================] - 32s 26ms/step - loss: 1.6675 - acc: 0.2791 - val_loss: 3.7666 - val_acc: 0.0000e+00\n",
      "Epoch 3/10\n",
      "1236/1236 [==============================] - 31s 25ms/step - loss: 1.5132 - acc: 0.3285 - val_loss: 3.8394 - val_acc: 0.2233\n",
      "Epoch 4/10\n",
      "1236/1236 [==============================] - 34s 27ms/step - loss: 1.1181 - acc: 0.5477 - val_loss: 5.2822 - val_acc: 0.2233\n",
      "Epoch 5/10\n",
      "1236/1236 [==============================] - 33s 27ms/step - loss: 0.9452 - acc: 0.6650 - val_loss: 6.9296 - val_acc: 0.1974\n",
      "Epoch 6/10\n",
      "1236/1236 [==============================] - 32s 26ms/step - loss: 0.4531 - acc: 0.8981 - val_loss: 9.4274 - val_acc: 0.1974\n",
      "Epoch 7/10\n",
      "1236/1236 [==============================] - 35s 29ms/step - loss: 0.1815 - acc: 0.9741 - val_loss: 10.9414 - val_acc: 0.2104\n",
      "Epoch 8/10\n",
      "1236/1236 [==============================] - 32s 26ms/step - loss: 0.1018 - acc: 0.9887 - val_loss: 12.0354 - val_acc: 0.2233\n",
      "Epoch 9/10\n",
      "1236/1236 [==============================] - 32s 26ms/step - loss: 0.0459 - acc: 1.0000 - val_loss: 12.3053 - val_acc: 0.2233\n",
      "Epoch 10/10\n",
      "1236/1236 [==============================] - 32s 26ms/step - loss: 0.0329 - acc: 1.0000 - val_loss: 12.4940 - val_acc: 0.2233\n"
     ]
    },
    {
     "data": {
      "text/plain": [
       "<keras.callbacks.History at 0xea957b8>"
      ]
     },
     "execution_count": 18,
     "metadata": {},
     "output_type": "execute_result"
    }
   ],
   "source": [
    "model.fit(X_train, Y_train, batch_size=batch_size, epochs=epochs, validation_split = 0.2, verbose=1)"
   ]
  },
  {
   "cell_type": "code",
   "execution_count": 19,
   "metadata": {
    "collapsed": true
   },
   "outputs": [],
   "source": [
    "from keras.models import load_model  \n",
    "model.save('my_model.h5')  \n",
    "del model \n"
   ]
  },
  {
   "cell_type": "code",
   "execution_count": null,
   "metadata": {},
   "outputs": [
    {
     "name": "stderr",
     "output_type": "stream",
     "text": [
      " * Running on http://192.168.31.19:5000/ (Press CTRL+C to quit)\n",
      "192.168.31.19 - - [07/Aug/2018 21:42:22] \"\u001b[37mGET /predict/11 HTTP/1.1\u001b[0m\" 200 -\n"
     ]
    }
   ],
   "source": [
    "from sklearn.externals import joblib\n",
    "from flask import Flask,request\n",
    "app = Flask(__name__)\n",
    "\n",
    "#获取要预测的图片的像素矩阵\n",
    "def get_test_image_pixel(file):\n",
    "    X_test = []\n",
    "    img_array = get_image_pixel(file)\n",
    "    X_test.append(img_array)\n",
    "    X_test = np.array(X_test)\n",
    "    X_test = X_test.reshape(1, WIDTH, HEIGHT, 1)\n",
    "    X_test = X_test.astype('float32')     \n",
    "    X_test /= 255   #归一化\n",
    "    return X_test\n",
    "\n",
    "#获取最大预测结果的下标\n",
    "def get_max_index(y):\n",
    "    y_list = y.tolist()[0]\n",
    "    index = y_list.index(max(y_list))\n",
    "    return index\n",
    "\n",
    "#\n",
    "\n",
    "def get_label(index):\n",
    "    return labels[index]\n",
    "\n",
    "@app.route('/')\n",
    "def hello_world():\n",
    "    return 'Hello World!'\n",
    "\n",
    "@app.route('/predict/<image>')\n",
    "def predict(image):\n",
    "    image = 'D://wajueji//case//50.png'\n",
    "    index = get_max_index(model.predict(get_test_image_pixel(image)))\n",
    "    return get_label(index)\n",
    "\n",
    "if __name__ == '__main__':\n",
    "    #根据base_dirs定义类别列表\n",
    "    #base_dirs = ['caterpillar','case','kubota','doosan','komatsu','sany','volvo','xcmg']\n",
    "    labels = ['卡特彼勒','凯斯','久保田','斗山','小松','三一重工','沃尔沃','徐工']\n",
    "    model = load_model('my_model.h5')\n",
    "    app.run(host='192.168.31.19')"
   ]
  },
  {
   "cell_type": "code",
   "execution_count": 28,
   "metadata": {
    "collapsed": true
   },
   "outputs": [],
   "source": [
    "#获取要预测的图片的像素矩阵\n",
    "def get_test_image_pixel(file):\n",
    "    X_test = []\n",
    "    img_array = get_image_pixel(file)\n",
    "    X_test.append(img_array)\n",
    "    X_test = np.array(X_test)\n",
    "    X_test = X_test.reshape(1, WIDTH, HEIGHT, 1)\n",
    "    X_test = X_test.astype('float32')     \n",
    "    X_test /= 255   #归一化\n",
    "    return X_test"
   ]
  },
  {
   "cell_type": "code",
   "execution_count": 29,
   "metadata": {
    "collapsed": true
   },
   "outputs": [],
   "source": [
    "model = load_model('my_model.h5')"
   ]
  },
  {
   "cell_type": "code",
   "execution_count": 30,
   "metadata": {
    "collapsed": true
   },
   "outputs": [],
   "source": [
    "#获取最大预测结果的下标\n",
    "def get_max_index(y):\n",
    "    y_list = y.tolist()[0]\n",
    "    index = y_list.index(max(y_list))\n",
    "    return index"
   ]
  },
  {
   "cell_type": "code",
   "execution_count": 31,
   "metadata": {
    "collapsed": true
   },
   "outputs": [],
   "source": [
    "#根据base_dirs定义类别列表\n",
    "#base_dirs = ['caterpillar','case','kubota','doosan','komatsu','sany','volvo','xcmg']\n",
    "labels = ['卡特彼勒','凯斯','久保田','斗山','小松','三一重工','沃尔沃','徐工']\n",
    "def get_label(index):\n",
    "    return labels[index]"
   ]
  },
  {
   "cell_type": "code",
   "execution_count": 32,
   "metadata": {
    "collapsed": true
   },
   "outputs": [],
   "source": [
    "file = 'D://wajueji//case//50.png'\n",
    "index = get_max_index(model.predict(get_test_image_pixel(file)))"
   ]
  },
  {
   "cell_type": "code",
   "execution_count": 33,
   "metadata": {},
   "outputs": [
    {
     "data": {
      "text/plain": [
       "'凯斯'"
      ]
     },
     "execution_count": 33,
     "metadata": {},
     "output_type": "execute_result"
    }
   ],
   "source": [
    "get_label(index)"
   ]
  },
  {
   "cell_type": "code",
   "execution_count": null,
   "metadata": {
    "collapsed": true
   },
   "outputs": [],
   "source": []
  }
 ],
 "metadata": {
  "kernelspec": {
   "display_name": "Python 3",
   "language": "python",
   "name": "python3"
  },
  "language_info": {
   "codemirror_mode": {
    "name": "ipython",
    "version": 3
   },
   "file_extension": ".py",
   "mimetype": "text/x-python",
   "name": "python",
   "nbconvert_exporter": "python",
   "pygments_lexer": "ipython3",
   "version": "3.6.3"
  }
 },
 "nbformat": 4,
 "nbformat_minor": 2
}
